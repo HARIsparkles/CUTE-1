{
 "cells": [
  {
   "cell_type": "markdown",
   "metadata": {},
   "source": [
    "# Crack Detection using Drone Images\n",
    "\n",
    "This notebook processes images to detect cracks using various image processing techniques."
   ]
  },
  {
   "cell_type": "code",
   "execution_count": 1,
   "metadata": {},
   "outputs": [],
   "source": [
    "!pip install opencv-python-headless pillow matplotlib scikit-image tensorflow scikit-learn sqlite3"
   ]
  },
  {
   "cell_type": "code",
   "execution_count": 2,
   "metadata": {},
   "outputs": [],
   "source": [
    "import cv2\n",
    "from skimage.feature import graycomatrix, graycoprops, local_binary_pattern\n",
    "import numpy as np\n",
    "from matplotlib import pyplot as plt\n",
    "from sklearn.model_selection import train_test_split\n",
    "from sklearn.preprocessing import LabelEncoder\n",
    "from sklearn.svm import SVC\n",
    "from sklearn.metrics import accuracy_score\n",
    "import tensorflow as tf\n",
    "from tensorflow.keras.models import Sequential\n",
    "from tensorflow.keras.layers import Dense, Flatten, Conv2D, MaxPooling2D\n",
    "import os\n",
    "import sqlite3"
   ]
  },
  {
   "cell_type": "code",
   "execution_count": 3,
   "metadata": {},
   "outputs": [],
   "source": [
    "# Load image\n",
    "image_path = 'download.jpeg'  # Adjust the image path\n",
    "image = cv2.imread(image_path, cv2.IMREAD_GRAYSCALE)"
   ]
  },
  {
   "cell_type": "code",
   "execution_count": 4,
   "metadata": {},
   "outputs": [],
   "source": [
    "# Noise reduction\n",
    "blurred_image = cv2.GaussianBlur(image, (5, 5), 0)"
   ]
  },
  {
   "cell_type": "code",
   "execution_count": 5,
   "metadata": {},
   "outputs": [],
   "source": [
    "# Adaptive histogram equalization\n",
    "clahe = cv2.createCLAHE(clipLimit=2.0, tileGridSize=(8, 8))\n",
    "enhanced_image = clahe.apply(blurred_image)"
   ]
  },
  {
   "cell_type": "code",
   "execution_count": 6,
   "metadata": {},
   "outputs": [],
   "source": [
    "# Morphological processing\n",
    "kernel = np.ones((5, 5), np.uint8)\n",
    "morph_image = cv2.morphologyEx(enhanced_image, cv2.MORPH_CLOSE, kernel)"
   ]
  },
  {
   "cell_type": "code",
   "execution_count": 7,
   "metadata": {},
   "outputs": [],
   "source": [
    "# GLCM\n",
    "glcm = graycomatrix(enhanced_image, distances=[1], angles=[0], levels=256, symmetric=True, normed=True)\n",
    "contrast = graycoprops(glcm, 'contrast')[0, 0]\n",
    "dissimilarity = graycoprops(glcm, 'dissimilarity')[0, 0]\n",
    "homogeneity = graycoprops(glcm, 'homogeneity')[0, 0]\n",
    "energy = graycoprops(glcm, 'energy')[0, 0]\n",
    "correlation = graycoprops(glcm, 'correlation')[0, 0]\n",
    "ASM = graycoprops(glcm, 'ASM')[0, 0]\n",
    "\n",
    "print(f'GLCM - Contrast: {contrast}, Dissimilarity: {dissimilarity}, Homogeneity: {homogeneity}, Energy: {energy}, Correlation: {correlation}, ASM: {ASM}')"
   ]
  },
  {
   "cell_type": "code",
   "execution_count": 8,
   "metadata": {},
   "outputs": [],
   "source": [
    "# LBP\n",
    "radius = 1\n",
    "n_points = 8 * radius\n",
    "lbp = local_binary_pattern(enhanced_image, n_points, radius, method='uniform')"
   ]
  },
  {
   "cell_type": "code",
   "execution_count": 9,
   "metadata": {},
   "outputs": [],
   "source": [
    "# Edge detection\n",
    "edges = cv2.Canny(enhanced_image, 100, 200)"
   ]
  },
  {
   "cell_type": "code",
   "execution_count": 10,
   "metadata": {},
   "outputs": [],
   "source": [
    "# Display images\n",
    "plt.figure(figsize=(10, 6))\n",
    "plt.subplot(2, 3, 1), plt.imshow(image, cmap='gray'), plt.title('Original Image')\n",
    "plt.subplot(2, 3, 2), plt.imshow(blurred_image, cmap='gray'), plt.title('Blurred Image')\n",
    "plt.subplot(2, 3, 3), plt.imshow(enhanced_image, cmap='gray'), plt.title('Enhanced Image')\n",
    "plt.subplot(2, 3, 4), plt.imshow(morph_image, cmap='gray'), plt.title('Morphological Image')\n",
    "plt.subplot(2, 3, 5), plt.imshow(edges, cmap='gray'), plt.title('Edges')\n",
    "plt.show()"
   ]
  },
  {
   "cell_type": "code",
   "execution_count": 11,
   "metadata": {},
   "outputs": [],
   "source": [
    "# Prepare data for classifiers\n",
    "def extract_features(image):\n",
    "    glcm = graycomatrix(image, distances=[1], angles=[0], levels=256, symmetric=True, normed=True)\n",
    "    contrast = graycoprops(glcm, 'contrast')[0, 0]\n",
    "    dissimilarity = graycoprops(glcm, 'dissimilarity')[0, 0]\n",
    "    homogeneity = graycoprops(glcm, 'homogeneity')[0, 0]\n",
    "    energy = graycoprops(glcm, 'energy')[0, 0]\n",
    "    correlation = graycoprops(glcm, 'correlation')[0, 0]\n",
    "    ASM = graycoprops(glcm, 'ASM')[0, 0]\n",
    "    lbp = local_binary_pattern(image, n_points, radius, method='uniform')\n",
    "    n_bins = int(lbp.max() + 1)\n",
    "    lbp_hist, _ = np.histogram(lbp, density=True, bins=n_bins, range=(0, n_bins))\n",
    "    features = np.hstack([contrast, dissimilarity, homogeneity, energy, correlation, ASM, lbp_hist])\n",
    "    return features\n",
    "\n",
    "X = []\n",
    "y = []\n",
    "\n",
    "# Assuming we have a dataset folder with subfolders 'crack' and 'no_crack'\n",
    "dataset_path = 'dataset'\n",
    "for label in ['crack', 'no_crack']:\n",
    "    folder_path = os.path.join(dataset_path, label)\n",
    "    for filename in os.listdir(folder_path):\n",
    "        if filename.endswith('.jpg'):\n",
    "            img_path = os.path.join(folder_path, filename)\n",
    "            img = cv2.imread(img_path, cv2.IMREAD_GRAYSCALE)\n",
    "            features = extract_features(img)\n",
    "            X.append(features)\n",
    "            y.append(label)\n",
    "\n",
    "X = np.array(X)\n",
    "y = np.array(y)\n",
    "\n",
    "le = LabelEncoder()\n",
    "y_encoded = le.fit_transform(y)\n",
    "\n",
    "X_train, X_test, y_train, y_test = train_test_split(X, y_encoded, test_size=0.2, random_state=42)"
   ]
  },
  {
   "cell_type": "code",
   "execution_count": 12,
   "metadata": {},
   "outputs": [],
   "source": [
    "# SVM Classifier\n",
    "svm_classifier = SVC(kernel='linear')\n",
    "svm_classifier.fit(X_train, y_train)\n",
    "y_pred_svm = svm_classifier.predict(X_test)\n",
    "svm_accuracy = accuracy_score(y_test, y_pred_svm)\n",
    "print(f'SVM Classifier Accuracy: {svm_accuracy}')"
   ]
  },
  {
   "cell_type": "code",
   "execution_count": 13,
   "metadata": {},
   "outputs": [],
   "source": [
    "# Neural Network Classifier\n",
    "model = Sequential([\n",
    "    Dense(128, activation='relu', input_shape=(X_train.shape[1],)),\n",
    "    Dense(64, activation='relu'),\n",
    "    Dense(32, activation='relu'),\n",
    "    Dense(1, activation='sigmoid')\n",
    "])\n",
    "\n",
    "model.compile(optimizer='adam', loss='binary_crossentropy', metrics=['accuracy'])\n",
    "\n",
    "model.fit(X_train, y_train, epochs=10, batch_size=32, validation_split=0.2)\n",
    "\n",
    "nn_accuracy = model.evaluate(X_test, y_test)[1]\n",
    "print(f'Neural Network Classifier Accuracy: {nn_accuracy}')"
   ]
  },
  {
   "cell_type": "code",
   "execution_count": 14,
   "metadata": {},
   "outputs": [],
   "source": [
    "# SQLite Database for Image Storage and Retrieval\n",
    "conn = sqlite3.connect('images.db')\n",
    "cursor = conn.cursor()\n",
    "\n",
    "# Create table\n",
    "cursor.execute('''CREATE TABLE IF NOT EXISTS images\n",
    "                  (id INTEGER PRIMARY KEY, path TEXT, label TEXT, features BLOB)''')\n",
    "\n",
    "# Insert data\n",
    "for img_path, label, feature in zip([os.path.join(folder_path, f) for folder_path in [os.path.join(dataset_path, 'crack'), os.path.join(dataset_path, 'no_crack')] for f in os.listdir(folder_path) if f.endswith('.jpg')], y, X):\n",
    "    cursor.execute('INSERT INTO images (path, label, features) VALUES (?, ?, ?)', (img_path, label, feature.tobytes()))\n",
    "\n",
    "conn.commit()\n",
    "conn.close()"
   ]
  }
 ],
 "metadata": {
  "kernelspec": {
   "display_name": "Python 3",
   "language": "python",
   "name": "python3"
  },
  "language_info": {
   "codemirror_mode": {
    "name": "ipython",
    "version": 3
   },
   "file_extension": ".py",
    "mimetype": "text/x-python",
    "name": "python",
    "nbconvert_exporter": "python",
    "pygments_lexer": "ipython3",
    "version": "3.7.3"
   }
 },
 "nbformat": 4,
 "nbformat_minor": 2
}
