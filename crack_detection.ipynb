{
 "cells": [
  {
   "cell_type": "markdown",
   "metadata": {},
   "source": [
    "# Crack Detection using Drone Images\n",
    "\n",
    "This notebook processes images to detect cracks using various image processing techniques."
   ]
  },
  {
   "cell_type": "code",
   "execution_count": 1,
   "metadata": {},
   "outputs": [],
   "source": [
    "!pip install opencv-python-headless pillow matplotlib scikit-image scikit-learn imgaug tensorflow ipywidgets"
   ]
  },
  {
   "cell_type": "code",
   "execution_count": 2,
   "metadata": {},
   "outputs": [],
   "source": [
    "import cv2\n",
    "from skimage.feature import graycomatrix, graycoprops, local_binary_pattern\n",
    "from sklearn.model_selection import train_test_split\n",
    "from sklearn.svm import SVC\n",
    "from sklearn.neural_network import MLPClassifier\n",
    "from sklearn.metrics import classification_report\n",
    "import numpy as np\n",
    "from matplotlib import pyplot as plt\n",
    "import os"
   ]
  },
  {
   "cell_type": "code",
   "execution_count": 3,
   "metadata": {},
   "outputs": [],
   "source": [
    "# Define the directory containing the images\n",
    "image_path = os.path.join('c.jpg')  # Replace with your image file name\n",
    "\n",
    "# Load image\n",
    "image = cv2.imread(image_path, cv2.IMREAD_GRAYSCALE)"
   ]
  },
  {
   "cell_type": "code",
   "execution_count": 4,
   "metadata": {},
   "outputs": [],
   "source": [
    "# Noise reduction\n",
    "blurred_image = cv2.GaussianBlur(image, (5, 5), 0)"
   ]
  },
  {
   "cell_type": "code",
   "execution_count": 5,
   "metadata": {},
   "outputs": [],
   "source": [
    "# Adaptive histogram equalization\n",
    "clahe = cv2.createCLAHE(clipLimit=2.0, tileGridSize=(8, 8))\n",
    "enhanced_image = clahe.apply(blurred_image)"
   ]
  },
  {
   "cell_type": "code",
   "execution_count": 6,
   "metadata": {},
   "outputs": [],
   "source": [
    "# GLCM\n",
    "glcm = graycomatrix(enhanced_image, distances=[1], angles=[0], levels=256, symmetric=True, normed=True)\n",
    "contrast = graycoprops(glcm, 'contrast')[0, 0]\n",
    "dissimilarity = graycoprops(glcm, 'dissimilarity')[0, 0]\n",
    "homogeneity = graycoprops(glcm, 'homogeneity')[0, 0]\n",
    "energy = graycoprops(glcm, 'energy')[0, 0]\n",
    "correlation = graycoprops(glcm, 'correlation')[0, 0]\n",
    "ASM = graycoprops(glcm, 'ASM')[0, 0]\n",
    "\n",
    "print(f'GLCM - Contrast: {contrast}, Dissimilarity: {dissimilarity}, Homogeneity: {homogeneity}, Energy: {energy}, Correlation: {correlation}, ASM: {ASM}')"
   ]
  },
  {
   "cell_type": "code",
   "execution_count": 7,
   "metadata": {},
   "outputs": [],
   "source": [
    "# LBP\n",
    "radius = 1\n",
    "n_points = 8 * radius\n",
    "lbp = local_binary_pattern(enhanced_image, n_points, radius, method='uniform')"
   ]
  },
  {
   "cell_type": "code",
   "execution_count": 8,
   "metadata": {},
   "outputs": [],
   "source": [
    "# Edge detection\n",
    "edges = cv2.Canny(enhanced_image, 100, 200)"
   ]
  },
  {
   "cell_type": "code",
   "execution_count": 9,
   "metadata": {},
   "outputs": [],
   "source": [
    "# Display images\n",
    "plt.figure(figsize=(10, 6))\n",
    "plt.subplot(2, 2, 1), plt.imshow(image, cmap='gray'), plt.title('Original Image')\n",
    "plt.subplot(2, 2, 2), plt.imshow(blurred_image, cmap='gray'), plt.title('Blurred Image')\n",
    "plt.subplot(2, 2, 3), plt.imshow(enhanced_image, cmap='gray'), plt.title('Enhanced Image')\n",
    "plt.subplot(2, 2, 4), plt.imshow(edges, cmap='gray'), plt.title('Edges')\n",
    "plt.show()"
   ]
  },
  {
   "cell_type": "code",
   "execution_count": 10,
   "metadata": {},
   "outputs": [],
   "source": [
    "# Feature extraction\n",
    "features = [contrast, dissimilarity, homogeneity, energy, correlation, ASM]\n",
    "\n",
    "# Labels (for demonstration, you need actual labels in practice)\n",
    "labels = np.array([1])  # 1 for crack detected, 0 for no crack\n",
    "\n",
    "# Split the data\n",
    "X_train, X_test, y_train, y_test = train_test_split([features], labels, test_size=0.2, random_state=42)\n",
    "\n",
    "# Train SVM classifier\n",
    "svm = SVC()\n",
    "svm.fit(X_train, y_train)\n",
    "\n",
    "# Predict and evaluate SVM\n",
    "y_pred_svm = svm.predict(X_test)\n",
    "print('SVM Classification Report:')\n",
    "print(classification_report(y_test, y_pred_svm))\n",
    "\n",
    "# Train MLP classifier\n",
    "mlp = MLPClassifier(max_iter=1000)\n",
    "mlp.fit(X_train, y_train)\n",
    "\n",
    "# Predict and evaluate MLP\n",
    "y_pred_mlp = mlp.predict(X_test)\n",
    "print('MLP Classification Report:')\n",
    "print(classification_report(y_test, y_pred_mlp))"
   ]
  },
  {
   "cell_type": "code",
   "execution_count": 11,
   "metadata": {},
   "outputs": [],
   "source": [
    "# Crack detection decision based on edge detection\n",
    "if np.sum(edges) > 0:  # Adjust the condition as needed for accuracy\n",
    "    print(\"Crack detected\")\n",
    "else:\n",
    "    print(\"No crack detected\")"
   ]
  }
 ],
 "metadata": {
  "kernelspec": {
   "display_name": "Python 3",
   "language": "python",
   "name": "python3"
  },
  "language_info": {
   "codemirror_mode": {
    "name": "ipython",
    "version": 3
   },
   "file_extension": ".py",
   "mimetype": "text/x-python",
   "name": "python",
   "nbconvert_exporter": "python",
   "pygments_lexer": "ipython3",
   "version": "3.7.3"
  }
 },
 "nbformat": 4,
 "nbformat_minor": 2
}
